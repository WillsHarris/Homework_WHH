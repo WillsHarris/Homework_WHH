{
 "cells": [
  {
   "cell_type": "code",
   "execution_count": 17,
   "metadata": {},
   "outputs": [],
   "source": [
    "from flask import Flask, render_template, redirect\n",
    "\n",
    "\n",
    "\n",
    "import pandas as pd\n",
    "\n",
    "\n",
    "from splinter import Browser\n",
    "from bs4 import BeautifulSoup"
   ]
  },
  {
   "cell_type": "code",
   "execution_count": 18,
   "metadata": {},
   "outputs": [],
   "source": [
    "# https://splinter.readthedocs.io/en/latest/drivers/chrome.html\n",
    "path=!which chromedriver"
   ]
  },
  {
   "cell_type": "code",
   "execution_count": 19,
   "metadata": {},
   "outputs": [],
   "source": [
    "executable_path = {'executable_path': '/usr/local/bin/chromedriver'}\n",
    "browser = Browser('chrome', **executable_path, headless=False)"
   ]
  },
  {
   "cell_type": "code",
   "execution_count": 20,
   "metadata": {},
   "outputs": [],
   "source": [
    "url = 'http://books.toscrape.com/'\n",
    "browser.visit(url)"
   ]
  },
  {
   "cell_type": "code",
   "execution_count": 21,
   "metadata": {},
   "outputs": [],
   "source": [
    "html = browser.html\n",
    "soup = BeautifulSoup(html, 'html.parser')\n",
    "\n",
    "sidebar = soup.find('ul', class_='nav-list')\n",
    "\n",
    "categories = sidebar.find_all('li')\n",
    "\n",
    "category_list = []\n",
    "url_list = []\n",
    "book_url_list = []\n",
    "for category in categories:\n",
    "    title = category.text.strip()\n",
    "    category_list.append(title)\n",
    "    book_url = category.find('a')['href']\n",
    "    url_list.append(book_url)\n",
    "\n",
    "book_url_list = ['http://books.toscrape.com/' + url for url in url_list]\n",
    "\n",
    "titles_and_urls = zip(category_list, book_url_list)\n",
    "\n",
    "try:\n",
    "    for title_url in titles_and_urls:\n",
    "        browser.click_link_by_partial_text('next')\n",
    "except ElementDoesNotExist:\n",
    "    print(\"Scraping Complete\")"
   ]
  },
  {
   "cell_type": "code",
   "execution_count": 23,
   "metadata": {},
   "outputs": [],
   "source": [
    "url = 'https://mars.nasa.gov/news/?page=0&per_page=40&order=publish_date+desc%2Ccreated_at+desc&search=&category=19%2C165%2C184%2C204&blank_scope=Latest'\n",
    "browser.visit(url)"
   ]
  },
  {
   "cell_type": "code",
   "execution_count": 71,
   "metadata": {},
   "outputs": [],
   "source": [
    "html = browser.html\n",
    "soup = BeautifulSoup(html, 'html.parser')"
   ]
  },
  {
   "cell_type": "code",
   "execution_count": 70,
   "metadata": {},
   "outputs": [
    {
     "name": "stdout",
     "output_type": "stream",
     "text": [
      "['Mars Scientists Investigate Ancient Life in Australia', \"NASA's Mars 2020 Will Hunt for Microscopic Fossils\", 'With Mars Methane Mystery Unsolved, Curiosity Serves Scientists a New One: Oxygen', \"NASA's Mars 2020 Heads Into the Test Chamber\", \"Screening Soon: 'The Pathfinders' Trains Lens on Mars\", \"InSight's 'Mole' Team Peers into the Pit\", \"Common Questions about InSight's 'Mole'\", 'Mars 2020 Stands on Its Own Six Wheels', 'New Selfie Shows Curiosity, the Mars Chemist', 'Naming a NASA Mars Rover Can Change Your Life', 'Mars 2020 Unwrapped and Ready for More Testing', \"HiRISE Views NASA's InSight and Curiosity on Mars\", \"NASA's Curiosity Rover Finds an Ancient Oasis on Mars\", \"NASA's Mars 2020 Rover Tests Descent-Stage Separation\", \"NASA's Push to Save the Mars InSight Lander's Heat Probe\", \"NASA's InSight 'Hears' Peculiar Sounds on Mars\", 'NASA Mars Mission Connects With Bosnian and Herzegovinian Town', \"Deadline Closing for Names to Fly on NASA's Next Mars Rover\", 'NASA Wins Two Emmy Awards for Interactive Mission Coverage', \"NASA's Mars 2020 Comes Full Circle\", 'NASA Invites Students to Name Mars 2020 Rover', \"NASA's Mars Helicopter Attached to Mars 2020 Rover \", \"What's Mars Solar Conjunction, and Why Does It Matter?\", 'Scientists Explore Outback as Testbed for Mars ', \"NASA-JPL Names 'Rolling Stones Rock' on Mars\", \"Robotic Toolkit Added to NASA's Mars 2020 Rover\", \"Space Samples Link NASA's Apollo 11 and Mars 2020\", 'Small Satellite Mission of the Year', \"NASA 'Optometrists' Verify Mars 2020 Rover's 20/20 Vision\", 'New Finds for Mars Rover, Seven Years After Landing', 'MEDLI2 Installation on Mars 2020 Aeroshell Begins', \"NASA's Mars 2020 Rover Does Biceps Curls \", \"Fueling of NASA's Mars 2020 Rover Power System Begins\", 'What Does a Marsquake Look Like?', 'Mars 2020 Rover: T-Minus One Year and Counting ', 'NASA Racks Up Two Emmy Nominations for Mission Coverage', 'Want to Colonize Mars? Aerogel Could Help', 'A Rover Pit Stop at JPL', 'Mars 2020 Rover Gets a Super Instrument', 'A Neil Armstrong for Mars: Landing the Mars 2020 Rover']\n"
     ]
    }
   ],
   "source": [
    "news_title=[]\n",
    "title_divs=soup.body.find('div', class_=\"grid_list_page module content_page\").find_all('div', class_=\"content_title\")\n",
    "for div in title_divs:\n",
    "    news_title.append(div.find('a').text)\n",
    "print(news_title)"
   ]
  },
  {
   "cell_type": "code",
   "execution_count": 79,
   "metadata": {},
   "outputs": [
    {
     "name": "stdout",
     "output_type": "stream",
     "text": [
      "[\"Teams with NASA's Mars 2020 and ESA's ExoMars practiced hunting for fossilized microbial life in the Australian Outback in preparation for their Red Planet missions. \", \"A new paper identifies a ring of minerals at the rover's landing site that are ideal for fossilizing microbial life.\", 'For the first time in the history of space exploration, scientists have measured the seasonal changes in the gases that fill the air directly above the surface of Gale Crater on Mars. ', 'In this time-lapse video taken at JPL, engineers move the Mars 2020 rover into a large vacuum chamber for testing in Mars-like environmental conditions.', 'With the Mars 2020 mission ramping up, the documentary — the first of four about past JPL missions to the Red Planet to be shown at Caltech — tells a gripping backstory.', 'Efforts to save the heat probe continue.', 'There\\'s a new plan to get InSight\\'s \"mole\" moving again. The following Q&As with two members of the team answer some of the most common questions about the burrowing device, part of a science instrument called the Heat Flow and Physical Properties Package (HP3).', \"In time-lapse video, taken at JPL, captures the first time NASA's Mars 2020 rover carries its full weight on its legs and wheels.\", 'The NASA rover performed a special chemistry experiment at the location captured in its newest self-portrait.', 'Want to name the robotic scientist NASA is sending to Mars in 2020? The student who named Curiosity — the rover currently exploring Mars — will tell you this is an opportunity worth taking.', \"In time-lapse video, bunny-suited engineers remove the inner layer of protective foil on NASA's Mars 2020 rover after it was relocated for testing.\", 'New images taken from space offer the clearest orbital glimpse yet of InSight as well as a view of Curiosity rolling along.', \"New evidence suggests salty, shallow ponds once dotted a Martian crater — a sign of the planet's drying climate.\", \"A crane lifts the rocket-powered descent stage away from NASA's Mars 2020 rover after technicians tested the pyrotechnic charges that separate the two spacecraft.\", \"The scoop on the end of the spacecraft's robotic arm will be used to 'pin' the mole against the wall of its hole.\", 'Listen to the marsquakes and other, less-expected sounds that the Mars lander has been detecting.', 'A letter from NASA was presented to the mayor of Jezero, Bosnia-Herzegovina, honoring the connection between the town and Jezero Crater, the Mars 2020 rover landing site.', 'You have until Sept. 30 to send your names to Mars aboard the Mars 2020 rover. ', \"NASA-JPL's coverage of the Mars InSight landing earns one of the two wins, making this the NASA center's second Emmy.\", \"Aiming to pinpoint the Martian vehicle's center of gravity, engineers took NASA's 2,300-pound Mars 2020 rover for a spin in the clean room at JPL. \", \"Through Nov. 1, K-12 students in the U.S. are encouraged to enter an essay contest to name NASA's next Mars rover.\", 'The helicopter will be first aircraft to perform flight tests on another planet.', 'NASA spacecraft at Mars are going to be on their own for a few weeks when the Sun comes between Mars and Earth, interrupting communications.', \"Australia provides a great place for NASA's Mars 2020 and the ESA-Roscosmos ExoMars scientists to hone techniques in preparation for searching for signs ancient life on Mars.\", \"NASA's Mars InSight mission honored one of the biggest bands of all time at Pasadena concert.\", \"The bit carousel, which lies at the heart of the rover's Sample Caching System, is now aboard NASA's newest rover. \", \"While separated by half a century, NASA's Apollo 11 and Mars 2020 missions share the same historic goal: returning samples to Earth.\", 'The first interplanetary CubeSats were recognized by the engineering community with the 2019 Small Satellite Mission of the Year award.', 'Mars 2020 rover underwent an eye exam after several cameras were installed on the rover.', 'NASA\\'s Curiosity rover is discovering odd rocks halfway into a region called the \"clay-bearing unit.\"', \"Hardware installed onto NASA's Mars 2020 entry vehicle this week will help to increase the safety of future Mars landings.\", \"In this time-lapse video, the robotic arm on NASA's Mars 2020 rover maneuvers its 88-pound (40-kilogram) sensor-laden turret as it moves from a deployed to stowed configuration.\", \"NASA gives the go-ahead to fuel the Mars 2020 rover's Multi-Mission Radioisotope Thermoelectric Generator, which will power rover and help keep it warm while exploring Mars.\", 'InSight scientists used a special \"shake room\" to demonstrate the differences between quakes on Earth, the Moon and Mars.', \"The launch period for NASA's next rover, Mars 2020, opens exactly one year from today, July 17, 2020, and extends through Aug. 5, 2020.\", \"JPL's coverage of the Mars InSight mission is among the efforts that will be up for an award in mid-September.\", 'Researchers are studying whether a wonder material used in Mars rovers could help warm parts of the Red Planet rich in water ice.', \"Working like a finely honed machine, a team of engineers in this time-lapse video clip install test wheels on another finely honed machine: NASA's Mars 2020 rover.\", 'With its rock-zapping laser, the SuperCam will enable the science team to identify the chemical and mineral makeup of its targets on the Red Planet.', \"NASA's newest rover will have an autopilot called Terrain-Relative Navigation.\"]\n"
     ]
    }
   ],
   "source": [
    "news_text=[]\n",
    "text_divs=soup.body.find('div', class_=\"grid_list_page module content_page\").find_all('div', class_=\"article_teaser_body\")\n",
    "for div in text_divs:\n",
    "    news_text.append(div.text)\n",
    "print(news_text)"
   ]
  }
 ],
 "metadata": {
  "kernelspec": {
   "display_name": "Python 3",
   "language": "python",
   "name": "python3"
  },
  "language_info": {
   "codemirror_mode": {
    "name": "ipython",
    "version": 3
   },
   "file_extension": ".py",
   "mimetype": "text/x-python",
   "name": "python",
   "nbconvert_exporter": "python",
   "pygments_lexer": "ipython3",
   "version": "3.7.3"
  },
  "toc": {
   "base_numbering": 1,
   "nav_menu": {},
   "number_sections": true,
   "sideBar": true,
   "skip_h1_title": false,
   "title_cell": "Table of Contents",
   "title_sidebar": "Contents",
   "toc_cell": false,
   "toc_position": {},
   "toc_section_display": true,
   "toc_window_display": false
  },
  "varInspector": {
   "cols": {
    "lenName": 16,
    "lenType": 16,
    "lenVar": 40
   },
   "kernels_config": {
    "python": {
     "delete_cmd_postfix": "",
     "delete_cmd_prefix": "del ",
     "library": "var_list.py",
     "varRefreshCmd": "print(var_dic_list())"
    },
    "r": {
     "delete_cmd_postfix": ") ",
     "delete_cmd_prefix": "rm(",
     "library": "var_list.r",
     "varRefreshCmd": "cat(var_dic_list()) "
    }
   },
   "types_to_exclude": [
    "module",
    "function",
    "builtin_function_or_method",
    "instance",
    "_Feature"
   ],
   "window_display": false
  }
 },
 "nbformat": 4,
 "nbformat_minor": 2
}
