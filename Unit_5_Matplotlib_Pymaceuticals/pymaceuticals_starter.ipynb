{
 "cells": [
  {
   "cell_type": "markdown",
   "metadata": {},
   "source": [
    "## Observations and Insights"
   ]
  },
  {
   "cell_type": "markdown",
   "metadata": {},
   "source": []
  },
  {
   "cell_type": "markdown",
   "metadata": {},
   "source": [
    "## Dependencies and starter code"
   ]
  },
  {
   "cell_type": "code",
   "execution_count": 344,
   "metadata": {},
   "outputs": [
    {
     "data": {
      "text/html": [
       "<div>\n",
       "<style scoped>\n",
       "    .dataframe tbody tr th:only-of-type {\n",
       "        vertical-align: middle;\n",
       "    }\n",
       "\n",
       "    .dataframe tbody tr th {\n",
       "        vertical-align: top;\n",
       "    }\n",
       "\n",
       "    .dataframe thead th {\n",
       "        text-align: right;\n",
       "    }\n",
       "</style>\n",
       "<table border=\"1\" class=\"dataframe\">\n",
       "  <thead>\n",
       "    <tr style=\"text-align: right;\">\n",
       "      <th></th>\n",
       "      <th>Mouse ID</th>\n",
       "      <th>Drug Regimen</th>\n",
       "      <th>Sex</th>\n",
       "      <th>Age_months</th>\n",
       "      <th>Weight (g)</th>\n",
       "      <th>Timepoint</th>\n",
       "      <th>Tumor Volume (mm3)</th>\n",
       "      <th>Metastatic Sites</th>\n",
       "    </tr>\n",
       "  </thead>\n",
       "  <tbody>\n",
       "    <tr>\n",
       "      <th>0</th>\n",
       "      <td>k403</td>\n",
       "      <td>Ramicane</td>\n",
       "      <td>Male</td>\n",
       "      <td>21</td>\n",
       "      <td>16</td>\n",
       "      <td>0</td>\n",
       "      <td>45.000000</td>\n",
       "      <td>0</td>\n",
       "    </tr>\n",
       "    <tr>\n",
       "      <th>1</th>\n",
       "      <td>k403</td>\n",
       "      <td>Ramicane</td>\n",
       "      <td>Male</td>\n",
       "      <td>21</td>\n",
       "      <td>16</td>\n",
       "      <td>5</td>\n",
       "      <td>38.825898</td>\n",
       "      <td>0</td>\n",
       "    </tr>\n",
       "    <tr>\n",
       "      <th>2</th>\n",
       "      <td>k403</td>\n",
       "      <td>Ramicane</td>\n",
       "      <td>Male</td>\n",
       "      <td>21</td>\n",
       "      <td>16</td>\n",
       "      <td>10</td>\n",
       "      <td>35.014271</td>\n",
       "      <td>1</td>\n",
       "    </tr>\n",
       "    <tr>\n",
       "      <th>3</th>\n",
       "      <td>k403</td>\n",
       "      <td>Ramicane</td>\n",
       "      <td>Male</td>\n",
       "      <td>21</td>\n",
       "      <td>16</td>\n",
       "      <td>15</td>\n",
       "      <td>34.223992</td>\n",
       "      <td>1</td>\n",
       "    </tr>\n",
       "    <tr>\n",
       "      <th>4</th>\n",
       "      <td>k403</td>\n",
       "      <td>Ramicane</td>\n",
       "      <td>Male</td>\n",
       "      <td>21</td>\n",
       "      <td>16</td>\n",
       "      <td>20</td>\n",
       "      <td>32.997729</td>\n",
       "      <td>1</td>\n",
       "    </tr>\n",
       "  </tbody>\n",
       "</table>\n",
       "</div>"
      ],
      "text/plain": [
       "  Mouse ID Drug Regimen   Sex  Age_months  Weight (g)  Timepoint  \\\n",
       "0     k403     Ramicane  Male          21          16          0   \n",
       "1     k403     Ramicane  Male          21          16          5   \n",
       "2     k403     Ramicane  Male          21          16         10   \n",
       "3     k403     Ramicane  Male          21          16         15   \n",
       "4     k403     Ramicane  Male          21          16         20   \n",
       "\n",
       "   Tumor Volume (mm3)  Metastatic Sites  \n",
       "0           45.000000                 0  \n",
       "1           38.825898                 0  \n",
       "2           35.014271                 1  \n",
       "3           34.223992                 1  \n",
       "4           32.997729                 1  "
      ]
     },
     "execution_count": 344,
     "metadata": {},
     "output_type": "execute_result"
    }
   ],
   "source": [
    "# Dependencies and Setup\n",
    "import matplotlib.pyplot as plt\n",
    "import pandas as pd\n",
    "import scipy.stats as st\n",
    "from scipy.stats import linregress\n",
    "\n",
    "# Study data files\n",
    "mouse_metadata = \"data/Mouse_metadata.csv\"\n",
    "study_results = \"data/Study_results.csv\"\n",
    "\n",
    "# Read the mouse data and the study results\n",
    "mouse_metadata = pd.read_csv(mouse_metadata)\n",
    "study_results = pd.read_csv(study_results)\n",
    "\n",
    "# Combine the data into a single dataset\n",
    "df = pd.merge(mouse_metadata, study_results, on=\"Mouse ID\")\n",
    "df.head()"
   ]
  },
  {
   "cell_type": "markdown",
   "metadata": {},
   "source": [
    "## Summary statistics"
   ]
  },
  {
   "cell_type": "code",
   "execution_count": 345,
   "metadata": {},
   "outputs": [
    {
     "data": {
      "text/html": [
       "<div>\n",
       "<style scoped>\n",
       "    .dataframe tbody tr th:only-of-type {\n",
       "        vertical-align: middle;\n",
       "    }\n",
       "\n",
       "    .dataframe tbody tr th {\n",
       "        vertical-align: top;\n",
       "    }\n",
       "\n",
       "    .dataframe thead th {\n",
       "        text-align: right;\n",
       "    }\n",
       "</style>\n",
       "<table border=\"1\" class=\"dataframe\">\n",
       "  <thead>\n",
       "    <tr style=\"text-align: right;\">\n",
       "      <th></th>\n",
       "      <th>Mean vol</th>\n",
       "      <th>Median vol</th>\n",
       "      <th>Variance of vol</th>\n",
       "      <th>StDev of vol</th>\n",
       "      <th>SEM of vol</th>\n",
       "    </tr>\n",
       "    <tr>\n",
       "      <th>Drug Regimen</th>\n",
       "      <th></th>\n",
       "      <th></th>\n",
       "      <th></th>\n",
       "      <th></th>\n",
       "      <th></th>\n",
       "    </tr>\n",
       "  </thead>\n",
       "  <tbody>\n",
       "    <tr>\n",
       "      <th>Ramicane</th>\n",
       "      <td>40.216745</td>\n",
       "      <td>40.673236</td>\n",
       "      <td>23.486704</td>\n",
       "      <td>4.846308</td>\n",
       "      <td>0.320955</td>\n",
       "    </tr>\n",
       "    <tr>\n",
       "      <th>Capomulin</th>\n",
       "      <td>40.675741</td>\n",
       "      <td>41.557809</td>\n",
       "      <td>24.947764</td>\n",
       "      <td>4.994774</td>\n",
       "      <td>0.329346</td>\n",
       "    </tr>\n",
       "    <tr>\n",
       "      <th>Infubinol</th>\n",
       "      <td>52.884795</td>\n",
       "      <td>51.820584</td>\n",
       "      <td>43.128684</td>\n",
       "      <td>6.567243</td>\n",
       "      <td>0.492236</td>\n",
       "    </tr>\n",
       "    <tr>\n",
       "      <th>Placebo</th>\n",
       "      <td>54.033581</td>\n",
       "      <td>52.288934</td>\n",
       "      <td>61.168083</td>\n",
       "      <td>7.821003</td>\n",
       "      <td>0.581331</td>\n",
       "    </tr>\n",
       "    <tr>\n",
       "      <th>Ceftamin</th>\n",
       "      <td>52.591172</td>\n",
       "      <td>51.776157</td>\n",
       "      <td>39.290177</td>\n",
       "      <td>6.268188</td>\n",
       "      <td>0.469821</td>\n",
       "    </tr>\n",
       "    <tr>\n",
       "      <th>Stelasyn</th>\n",
       "      <td>54.233149</td>\n",
       "      <td>52.431737</td>\n",
       "      <td>59.450562</td>\n",
       "      <td>7.710419</td>\n",
       "      <td>0.573111</td>\n",
       "    </tr>\n",
       "    <tr>\n",
       "      <th>Zoniferol</th>\n",
       "      <td>53.236507</td>\n",
       "      <td>51.818479</td>\n",
       "      <td>48.533355</td>\n",
       "      <td>6.966589</td>\n",
       "      <td>0.516398</td>\n",
       "    </tr>\n",
       "    <tr>\n",
       "      <th>Ketapril</th>\n",
       "      <td>55.235638</td>\n",
       "      <td>53.698743</td>\n",
       "      <td>68.553577</td>\n",
       "      <td>8.279709</td>\n",
       "      <td>0.603860</td>\n",
       "    </tr>\n",
       "    <tr>\n",
       "      <th>Propriva</th>\n",
       "      <td>52.322552</td>\n",
       "      <td>50.854632</td>\n",
       "      <td>42.351070</td>\n",
       "      <td>6.507770</td>\n",
       "      <td>0.512884</td>\n",
       "    </tr>\n",
       "    <tr>\n",
       "      <th>Naftisol</th>\n",
       "      <td>54.331565</td>\n",
       "      <td>52.509285</td>\n",
       "      <td>66.173479</td>\n",
       "      <td>8.134708</td>\n",
       "      <td>0.596466</td>\n",
       "    </tr>\n",
       "  </tbody>\n",
       "</table>\n",
       "</div>"
      ],
      "text/plain": [
       "               Mean vol  Median vol  Variance of vol  StDev of vol  SEM of vol\n",
       "Drug Regimen                                                                  \n",
       "Ramicane      40.216745   40.673236        23.486704      4.846308    0.320955\n",
       "Capomulin     40.675741   41.557809        24.947764      4.994774    0.329346\n",
       "Infubinol     52.884795   51.820584        43.128684      6.567243    0.492236\n",
       "Placebo       54.033581   52.288934        61.168083      7.821003    0.581331\n",
       "Ceftamin      52.591172   51.776157        39.290177      6.268188    0.469821\n",
       "Stelasyn      54.233149   52.431737        59.450562      7.710419    0.573111\n",
       "Zoniferol     53.236507   51.818479        48.533355      6.966589    0.516398\n",
       "Ketapril      55.235638   53.698743        68.553577      8.279709    0.603860\n",
       "Propriva      52.322552   50.854632        42.351070      6.507770    0.512884\n",
       "Naftisol      54.331565   52.509285        66.173479      8.134708    0.596466"
      ]
     },
     "execution_count": 345,
     "metadata": {},
     "output_type": "execute_result"
    }
   ],
   "source": [
    "# Generate a summary statistics table of mean, median, variance, standard deviation, and SEM of the tumor volume for each regimen\n",
    "mean=[]\n",
    "median=[]\n",
    "variance=[]\n",
    "st_dev=[]\n",
    "SEM=[]\n",
    "\n",
    "regimen_list=df['Drug Regimen'].unique()\n",
    "for regimen in regimen_list: \n",
    "    df_regimen = df.loc[df['Drug Regimen']==regimen]\n",
    "    \n",
    "    mean.append(df_regimen['Tumor Volume (mm3)'].mean())\n",
    "    median.append(df_regimen['Tumor Volume (mm3)'].median())\n",
    "    variance.append(st.tvar(df_regimen['Tumor Volume (mm3)']))\n",
    "    st_dev.append(st.tstd(df_regimen['Tumor Volume (mm3)']))\n",
    "    SEM.append(st.sem(df_regimen['Tumor Volume (mm3)']))\n",
    "    \n",
    "df_stats=pd.DataFrame(\n",
    "    {\"Drug Regimen\": regimen_list,\n",
    "     \"Mean vol\": mean,\n",
    "     \"Median vol\": median,\n",
    "     \"Variance of vol\": variance,\n",
    "     \"StDev of vol\": st_dev,\n",
    "     \"SEM of vol\": SEM\n",
    "    })\n",
    "\n",
    "df_stats.set_index('Drug Regimen')\n",
    " "
   ]
  },
  {
   "cell_type": "markdown",
   "metadata": {},
   "source": [
    "## Bar plots"
   ]
  },
  {
   "cell_type": "code",
   "execution_count": 346,
   "metadata": {},
   "outputs": [
    {
     "data": {
      "image/png": "[encoded data removed]",
      "text/plain": [
       "<Figure size 432x288 with 1 Axes>"
      ]
     },
     "metadata": {
      "needs_background": "light"
     },
     "output_type": "display_data"
    }
   ],
   "source": [
    "# Generate a bar plot showing number of data points for each treatment regimen using pandas\n",
    "data_points=[]\n",
    "for regimen in regimen_list: \n",
    "    df_regimen = df.loc[df['Drug Regimen']==regimen]\n",
    "    data_points.append(len(df_regimen))\n",
    "    \n",
    "x_axis=[]\n",
    "for i in range(len(data_points)):\n",
    "    x_axis.append(i)\n",
    "\n",
    "\n",
    "bar_plot = pd.DataFrame({'Drug':regimen_list, 'data count':data_points})\n",
    "ax = bar_plot.plot.bar(x='Drug', y='data count', rot=55)"
   ]
  },
  {
   "cell_type": "code",
   "execution_count": 347,
   "metadata": {},
   "outputs": [
    {
     "data": {
      "image/png": "[encoded data removed]",
      "text/plain": [
       "<Figure size 720x288 with 1 Axes>"
      ]
     },
     "metadata": {
      "needs_background": "light"
     },
     "output_type": "display_data"
    }
   ],
   "source": [
    "# Generate a bar plot showing number of data points for each treatment regimen using pyplot\n",
    "plt.figure(figsize=(10,4))\n",
    "plt.bar(x_axis, data_points, color='g', alpha=0.5, align=\"center\")\n",
    "plt.xticks(x_axis, regimen_list, rotation=55)\n",
    "plt.title(\"Number of data points for each treatment regimen\")\n",
    "plt.show()"
   ]
  },
  {
   "cell_type": "markdown",
   "metadata": {},
   "source": [
    "## Pie plots"
   ]
  },
  {
   "cell_type": "code",
   "execution_count": 348,
   "metadata": {},
   "outputs": [
    {
     "data": {
      "image/png": "[encoded data removed]",
      "text/plain": [
       "<Figure size 288x288 with 1 Axes>"
      ]
     },
     "metadata": {},
     "output_type": "display_data"
    }
   ],
   "source": [
    "# Generate a pie plot showing the distribution of female versus male mice using pandas\n",
    "\n",
    "colors = [\"blue\", \"pink\"]\n",
    "genders = [\"Male\", \"Female\"]\n",
    "gender_count=[]\n",
    "for gender in genders:\n",
    "    df_genders = df.loc[df['Sex']==gender]\n",
    "    gender_count.append(len(df_genders))\n",
    "gender_count\n",
    "\n",
    "df_gender = pd.DataFrame({'': gender_count},\n",
    "                         index=genders)\n",
    "plot = df_gender.plot.pie(y='', figsize=(4, 4), colors=colors,  startangle=190,\n",
    "        autopct=\"%1.1f%%\", legend=False)"
   ]
  },
  {
   "cell_type": "code",
   "execution_count": 349,
   "metadata": {},
   "outputs": [
    {
     "data": {
      "image/png": "[encoded data removed]",
      "text/plain": [
       "<Figure size 432x288 with 1 Axes>"
      ]
     },
     "metadata": {},
     "output_type": "display_data"
    }
   ],
   "source": [
    "# Generate a pie plot showing the distribution of female versus male mice using pyplot\n",
    "colors = [\"blue\", \"pink\"]\n",
    "explode = (0.1, 0)\n",
    "plt.pie(gender_count, explode=explode, labels=genders, colors=colors,\n",
    "        autopct=\"%1.1f%%\", shadow=True, startangle=140)\n",
    "plt.show()"
   ]
  },
  {
   "cell_type": "markdown",
   "metadata": {},
   "source": [
    "## Quartiles, outliers and boxplots"
   ]
  },
  {
   "cell_type": "code",
   "execution_count": 350,
   "metadata": {},
   "outputs": [
    {
     "data": {
      "text/html": [
       "<div>\n",
       "<style scoped>\n",
       "    .dataframe tbody tr th:only-of-type {\n",
       "        vertical-align: middle;\n",
       "    }\n",
       "\n",
       "    .dataframe tbody tr th {\n",
       "        vertical-align: top;\n",
       "    }\n",
       "\n",
       "    .dataframe thead th {\n",
       "        text-align: right;\n",
       "    }\n",
       "</style>\n",
       "<table border=\"1\" class=\"dataframe\">\n",
       "  <thead>\n",
       "    <tr style=\"text-align: right;\">\n",
       "      <th></th>\n",
       "      <th>Mouse ID</th>\n",
       "      <th>Drug Regimen</th>\n",
       "      <th>Final Tumor Volume (mm3)</th>\n",
       "    </tr>\n",
       "  </thead>\n",
       "  <tbody>\n",
       "    <tr>\n",
       "      <th>25</th>\n",
       "      <td>k403</td>\n",
       "      <td>Ramicane</td>\n",
       "      <td>22.050126</td>\n",
       "    </tr>\n",
       "    <tr>\n",
       "      <th>0</th>\n",
       "      <td>s185</td>\n",
       "      <td>Capomulin</td>\n",
       "      <td>23.343598</td>\n",
       "    </tr>\n",
       "    <tr>\n",
       "      <th>2</th>\n",
       "      <td>m601</td>\n",
       "      <td>Capomulin</td>\n",
       "      <td>28.430964</td>\n",
       "    </tr>\n",
       "    <tr>\n",
       "      <th>1</th>\n",
       "      <td>x401</td>\n",
       "      <td>Capomulin</td>\n",
       "      <td>28.484033</td>\n",
       "    </tr>\n",
       "    <tr>\n",
       "      <th>26</th>\n",
       "      <td>g791</td>\n",
       "      <td>Ramicane</td>\n",
       "      <td>29.128472</td>\n",
       "    </tr>\n",
       "  </tbody>\n",
       "</table>\n",
       "</div>"
      ],
      "text/plain": [
       "   Mouse ID Drug Regimen  Final Tumor Volume (mm3)\n",
       "25     k403     Ramicane                 22.050126\n",
       "0      s185    Capomulin                 23.343598\n",
       "2      m601    Capomulin                 28.430964\n",
       "1      x401    Capomulin                 28.484033\n",
       "26     g791     Ramicane                 29.128472"
      ]
     },
     "execution_count": 350,
     "metadata": {},
     "output_type": "execute_result"
    }
   ],
   "source": [
    "# Calculate the final tumor volume of each mouse across four of the most promising treatment regimens.\n",
    "promising_regimen = [\"Capomulin\", \"Ramicane\", \"Infubinol\", \"Ceftamin\"] \n",
    "mice = df[\"Mouse ID\"].unique()\n",
    "\n",
    "mouse_ID=[]\n",
    "vol_final=[]\n",
    "treatment=[]\n",
    "\n",
    "\n",
    "\n",
    "for regimen in promising_regimen: \n",
    "        df_promising_regimen = df.loc[df['Drug Regimen']==regimen]\n",
    "        for mouse in mice:\n",
    "            df_mouse = df_promising_regimen.loc[df_promising_regimen['Mouse ID']==mouse]\n",
    "            if len(df_mouse) != 0:\n",
    "                mouse_ID.append(mouse)\n",
    "                treatment.append(regimen)\n",
    "                vol_final.append(df_mouse.reset_index()[\"Tumor Volume (mm3)\"][len(df_mouse)-1])\n",
    "\n",
    "    \n",
    "\n",
    "df_vol_final=pd.DataFrame(\n",
    "    {\"Mouse ID\": mouse_ID,\n",
    "     \"Drug Regimen\": treatment,\n",
    "     \"Final Tumor Volume (mm3)\": vol_final\n",
    "    }).sort_values(by=[\"Final Tumor Volume (mm3)\"])\n",
    "\n",
    "df_vol_final.head()\n",
    "\n"
   ]
  },
  {
   "cell_type": "code",
   "execution_count": 351,
   "metadata": {},
   "outputs": [
    {
     "data": {
      "text/html": [
       "<div>\n",
       "<style scoped>\n",
       "    .dataframe tbody tr th:only-of-type {\n",
       "        vertical-align: middle;\n",
       "    }\n",
       "\n",
       "    .dataframe tbody tr th {\n",
       "        vertical-align: top;\n",
       "    }\n",
       "\n",
       "    .dataframe thead th {\n",
       "        text-align: right;\n",
       "    }\n",
       "</style>\n",
       "<table border=\"1\" class=\"dataframe\">\n",
       "  <thead>\n",
       "    <tr style=\"text-align: right;\">\n",
       "      <th></th>\n",
       "      <th>Drug Regimen</th>\n",
       "      <th>IQR of Final Tumor Volume (mm3)</th>\n",
       "      <th>Potential Outliers</th>\n",
       "    </tr>\n",
       "  </thead>\n",
       "  <tbody>\n",
       "    <tr>\n",
       "      <th>0</th>\n",
       "      <td>Capomulin</td>\n",
       "      <td>7.781863</td>\n",
       "      <td>none</td>\n",
       "    </tr>\n",
       "    <tr>\n",
       "      <th>1</th>\n",
       "      <td>Ramicane</td>\n",
       "      <td>9.098537</td>\n",
       "      <td>none</td>\n",
       "    </tr>\n",
       "    <tr>\n",
       "      <th>2</th>\n",
       "      <td>Infubinol</td>\n",
       "      <td>11.477135</td>\n",
       "      <td>[c326]</td>\n",
       "    </tr>\n",
       "    <tr>\n",
       "      <th>3</th>\n",
       "      <td>Ceftamin</td>\n",
       "      <td>15.577752</td>\n",
       "      <td>none</td>\n",
       "    </tr>\n",
       "  </tbody>\n",
       "</table>\n",
       "</div>"
      ],
      "text/plain": [
       "  Drug Regimen  IQR of Final Tumor Volume (mm3) Potential Outliers\n",
       "0    Capomulin                         7.781863               none\n",
       "1     Ramicane                         9.098537               none\n",
       "2    Infubinol                        11.477135             [c326]\n",
       "3     Ceftamin                        15.577752               none"
      ]
     },
     "execution_count": 351,
     "metadata": {},
     "output_type": "execute_result"
    }
   ],
   "source": [
    "# Calculate the IQR and quantitatively determine if there are any potential outliers.\n",
    "regimen_iqr=[]\n",
    "regimen_outliers=[]\n",
    "\n",
    "\n",
    "for regimen in promising_regimen:\n",
    "    df_vol_final_regimen = df_vol_final.loc[df_vol_final[\"Drug Regimen\"]==regimen]\n",
    "    quartiles = df_vol_final_regimen[\"Final Tumor Volume (mm3)\"].quantile([.25,.5,.75])\n",
    "    lowerq = quartiles[0.25]\n",
    "    upperq = quartiles[0.75]\n",
    "    iqr = upperq-lowerq\n",
    "    lower_bound = lowerq - (1.5*iqr)\n",
    "    upper_bound = upperq + (1.5*iqr)\n",
    "    regimen_iqr.append(iqr)\n",
    "    \n",
    "\n",
    "    regimen_outliers_list=[]\n",
    "    for i in range(len(df_vol_final_regimen)):\n",
    "        vol=df_vol_final_regimen.reset_index()[\"Final Tumor Volume (mm3)\"][i]\n",
    "        if vol < lower_bound:\n",
    "            regimen_outliers_list.append(df_vol_final_regimen.reset_index()[\"Mouse ID\"][i])\n",
    "        if vol > upper_bound:\n",
    "            regimen_outliers_list.append(df_vol_final_regimen.reset_index()[\"Mouse ID\"][i])\n",
    "            \n",
    "    if len(regimen_outliers_list) ==0:\n",
    "        regimen_outliers.append(\"none\")\n",
    "    else:\n",
    "        regimen_outliers.append(regimen_outliers_list)\n",
    "    \n",
    "\n",
    "    \n",
    "    \n",
    "            \n",
    "\n",
    "df_vol_final_iqr=pd.DataFrame(\n",
    "    {\"Drug Regimen\": promising_regimen,\n",
    "     \"IQR of Final Tumor Volume (mm3)\": regimen_iqr,\n",
    "     \"Potential Outliers\": regimen_outliers\n",
    "    })\n",
    "\n",
    "df_vol_final_iqr.head()\n",
    "\n"
   ]
  },
  {
   "cell_type": "code",
   "execution_count": 358,
   "metadata": {},
   "outputs": [
    {
     "data": {
      "image/png": "[encoded data removed]",
      "text/plain": [
       "<Figure size 432x288 with 1 Axes>"
      ]
     },
     "metadata": {
      "needs_background": "light"
     },
     "output_type": "display_data"
    }
   ],
   "source": [
    "# Generate a box plot of the final tumor volume of each mouse across four regimens of interest\n",
    "\n",
    "fig1, ax1 = plt.subplots()\n",
    "ax1.set_title('Final Tumor Volume by Regimen')\n",
    "ax1.set_xlabel('Drug')\n",
    "ax1.set_ylabel('Tumor Volume (mm3)')\n",
    "ax1.boxplot( [df_vol_final.loc[df_vol_final[\"Drug Regimen\"]==regimen][\"Final Tumor Volume (mm3)\"] for regimen in promising_regimen], flierprops=dict(markerfacecolor='r', marker='D'))\n",
    "ax1.set_xticklabels(promising_regimen)\n",
    "plt.show()"
   ]
  },
  {
   "cell_type": "markdown",
   "metadata": {},
   "source": [
    "## Line and scatter plots"
   ]
  },
  {
   "cell_type": "code",
   "execution_count": 353,
   "metadata": {},
   "outputs": [
    {
     "data": {
      "image/png": "[encoded data removed]",
      "text/plain": [
       "<Figure size 432x288 with 1 Axes>"
      ]
     },
     "metadata": {
      "needs_background": "light"
     },
     "output_type": "display_data"
    }
   ],
   "source": [
    "# Generate a line plot of time point versus tumor volume for a mouse treated with Capomulin\n",
    "df_capomulin= df.loc[df[\"Drug Regimen\"]==\"Capomulin\"]\n",
    "\n",
    "fig2, ax2 = plt.subplots()\n",
    "first_mouse=df_capomulin.reset_index()[\"Mouse ID\"][0]\n",
    "ax2.set_title(f\"Time point versus tumor volume for mouse {first_mouse}\")\n",
    "ax2.set_xlabel('Time Point')\n",
    "ax2.set_ylabel('Tumor Volume (mm3)')\n",
    "timepoint=df_capomulin['Timepoint'][0:10]\n",
    "tumorvol=df_capomulin[\"Tumor Volume (mm3)\"][0:10]\n",
    "ax2=plt.plot(timepoint, tumorvol)\n",
    "plt.show()\n",
    "\n"
   ]
  },
  {
   "cell_type": "code",
   "execution_count": 354,
   "metadata": {},
   "outputs": [
    {
     "data": {
      "image/png": "[encoded data removed]",
      "text/plain": [
       "<Figure size 432x288 with 1 Axes>"
      ]
     },
     "metadata": {
      "needs_background": "light"
     },
     "output_type": "display_data"
    },
    {
     "name": "stdout",
     "output_type": "stream",
     "text": [
      "The correlation between mouse weight and average tumor volume is 0.95\n",
      "The line equation for the linear regression model is y = 0.89x + 22.76\n"
     ]
    }
   ],
   "source": [
    "# Generate a scatter plot of mouse weight versus average tumor volume for the Capomulin regimen\n",
    "df_capomulin= df.loc[df[\"Drug Regimen\"]==\"Capomulin\"]\n",
    "weights=df_capomulin[\"Weight (g)\"].unique()\n",
    "tumorvol=[]\n",
    "for weight in weights:\n",
    "    tumorvol.append(df_capomulin.loc[df_capomulin[\"Weight (g)\"]==weight][\"Tumor Volume (mm3)\"].mean())\n",
    "# Calculate the correlation coefficient and linear regression model for mouse weight and average tumor volume for the Capomulin regimen\n",
    "\n",
    "x_values = weights\n",
    "y_values = tumorvol\n",
    "(slope, intercept, rvalue, pvalue, stderr) = linregress(x_values, y_values)\n",
    "regress_values = x_values * slope + intercept\n",
    "line_eq = \"y = \" + str(round(slope,2)) + \"x + \" + str(round(intercept,2))\n",
    "plt.scatter(x_values,y_values)\n",
    "plt.plot(x_values,regress_values,\"r-\")\n",
    "plt.title(\"Mouse weight versus average tumor volume\")\n",
    "plt.xlabel('Weight (g)')\n",
    "plt.ylabel('Average Tumor Volume (mm3)')\n",
    "plt.show()\n",
    "\n",
    "correlation = st.pearsonr(weights, tumorvol)\n",
    "print(f\"The correlation between mouse weight and average tumor volume is {round(correlation[0],2)}\")\n",
    "correlation = st.pearsonr(weights, tumorvol)\n",
    "print(f\"The line equation for the linear regression model is {line_eq}\")"
   ]
  }
 ],
 "metadata": {
  "anaconda-cloud": {},
  "kernelspec": {
   "display_name": "Python 3",
   "language": "python",
   "name": "python3"
  },
  "language_info": {
   "codemirror_mode": {
    "name": "ipython",
    "version": 3
   },
   "file_extension": ".py",
   "mimetype": "text/x-python",
   "name": "python",
   "nbconvert_exporter": "python",
   "pygments_lexer": "ipython3",
   "version": "3.7.3"
  },
  "toc": {
   "base_numbering": 1,
   "nav_menu": {},
   "number_sections": true,
   "sideBar": true,
   "skip_h1_title": false,
   "title_cell": "Table of Contents",
   "title_sidebar": "Contents",
   "toc_cell": false,
   "toc_position": {},
   "toc_section_display": true,
   "toc_window_display": false
  }
 },
 "nbformat": 4,
 "nbformat_minor": 2
}
